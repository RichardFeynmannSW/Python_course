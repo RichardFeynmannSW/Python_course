{
  "nbformat": 4,
  "nbformat_minor": 0,
  "metadata": {
    "colab": {
      "provenance": [],
      "authorship_tag": "ABX9TyP4vASss3NywfpotFHZC+gU",
      "include_colab_link": true
    },
    "kernelspec": {
      "name": "python3",
      "display_name": "Python 3"
    },
    "language_info": {
      "name": "python"
    }
  },
  "cells": [
    {
      "cell_type": "markdown",
      "metadata": {
        "id": "view-in-github",
        "colab_type": "text"
      },
      "source": [
        "<a href=\"https://colab.research.google.com/github/RichardFeynmannSW/Python_course/blob/main/Python_course_1_NumPy_3.ipynb\" target=\"_parent\"><img src=\"https://colab.research.google.com/assets/colab-badge.svg\" alt=\"Open In Colab\"/></a>"
      ]
    },
    {
      "cell_type": "markdown",
      "source": [
        "#Metabolomics data analysis and visualization using Python\n",
        "##Overview over the course\n",
        "\n",
        "\n",
        "Lecture 1: Basics of Python\\\n",
        "Lecture 2: Data analysis with Pandas library\\\n",
        "Lecture 3: Data visualization with Matplotlib library I\\\n",
        "Lecture 4: Data visualization with Matlibplot library II\\\n",
        "Lecture 5: Data analysis project\n",
        "\n",
        "Recommended material: Jake VanderPlas \"Python Data Science Handbook\" (open source)\n",
        "\n",
        "How to use this Jupyter notebook:\\\n",
        "This notebook includes code cells where you can run Python code interactively. To do this please click on the cell and press SHIFT + ENTER.\n",
        "\n"
      ],
      "metadata": {
        "id": "wVNPXkC5tv7_"
      }
    },
    {
      "cell_type": "markdown",
      "source": [
        "#Basics of Python\n",
        "The **print()** command allows you to receive an output from an algorithm. This command is also ver useful to prompt variables.\n",
        "\n",
        "At some point it will become necessary to add comments to your code in order to improve its readability. Comments are preceded by a '#'."
      ],
      "metadata": {
        "id": "nJi_hxrnQy82"
      }
    },
    {
      "cell_type": "code",
      "source": [
        "print('Hello world')\n",
        "#this a comment"
      ],
      "metadata": {
        "colab": {
          "base_uri": "https://localhost:8080/"
        },
        "id": "TcDGG8VXQ8Dq",
        "outputId": "9956a143-92b6-4ce1-f241-5dd4130b5293"
      },
      "execution_count": null,
      "outputs": [
        {
          "output_type": "stream",
          "name": "stdout",
          "text": [
            "Hello world\n"
          ]
        }
      ]
    },
    {
      "cell_type": "markdown",
      "source": [
        "#NumPy\n",
        "\n",
        "##Introduction to NumPy\n",
        "\n",
        "NumPy is a library used in Python. It supports array manipulation and high-level mathematical functions. We need to import the NumPy package with the **import** command. We can use ._version_ to check the version."
      ],
      "metadata": {
        "id": "Hc9gjZTHVsfv"
      }
    },
    {
      "cell_type": "code",
      "source": [
        "import numpy\n",
        "numpy.__version__"
      ],
      "metadata": {
        "colab": {
          "base_uri": "https://localhost:8080/",
          "height": 35
        },
        "id": "uJrRBWbcWb10",
        "outputId": "fe044aae-1252-4332-8e40-6e44bd1bbb3b"
      },
      "execution_count": null,
      "outputs": [
        {
          "output_type": "execute_result",
          "data": {
            "text/plain": [
              "'1.23.5'"
            ],
            "application/vnd.google.colaboratory.intrinsic+json": {
              "type": "string"
            }
          },
          "metadata": {},
          "execution_count": 1
        }
      ]
    },
    {
      "cell_type": "markdown",
      "source": [
        "It is a convention that NumPy will be imported as np. This is a shorthand to refer to the library. Remember to import NumPy at the beginning of your code if you want to use its features."
      ],
      "metadata": {
        "id": "WEmrUclJWjgp"
      }
    },
    {
      "cell_type": "code",
      "source": [
        "import numpy as np"
      ],
      "metadata": {
        "id": "9MsOEnhqWoXB"
      },
      "execution_count": null,
      "outputs": []
    },
    {
      "cell_type": "markdown",
      "source": [
        "##Understanding Datatypes\n",
        "In Python the data types (integer, float, string, ...) are dynamically inferred. This means that we can assign any kind of data to any variable by using the **=** operation without specifying the data type upon initialization."
      ],
      "metadata": {
        "id": "FmAKHwLcW6ht"
      }
    },
    {
      "cell_type": "code",
      "source": [
        "x = 4\n",
        "print(x)\n",
        "x = \"four\"\n",
        "print(x)"
      ],
      "metadata": {
        "colab": {
          "base_uri": "https://localhost:8080/"
        },
        "id": "nvhL8H-YXC8w",
        "outputId": "4a8164e7-52d0-4a74-fd00-fbff101bf698"
      },
      "execution_count": null,
      "outputs": [
        {
          "output_type": "stream",
          "name": "stdout",
          "text": [
            "4\n",
            "four\n"
          ]
        }
      ]
    },
    {
      "cell_type": "markdown",
      "source": [
        "###List\n",
        "Lists are used to store multiple items in a single variable. Use **list()** to create such an object.\n",
        "\n",
        "If you want to use a list of subsequent numbers than you can use the **range()** function. The **range()** function returns a sequence of numbers, starting from 0 by default, and increments by 1 (by default), and stops before a specified number. The general syntax is:\\\n",
        "*range(start, stop, step)*\\\n",
        "however the default is start = 0, step = 1."
      ],
      "metadata": {
        "id": "UaZ7jP9yXNhx"
      }
    },
    {
      "cell_type": "code",
      "source": [
        "L = list(range(10))\n",
        "print(L)"
      ],
      "metadata": {
        "colab": {
          "base_uri": "https://localhost:8080/"
        },
        "id": "q_NdF0kuXVlC",
        "outputId": "4ad60599-eeef-45e9-f0e6-7b58e4da9d4f"
      },
      "execution_count": null,
      "outputs": [
        {
          "output_type": "stream",
          "name": "stdout",
          "text": [
            "[0, 1, 2, 3, 4, 5, 6, 7, 8, 9]\n"
          ]
        }
      ]
    },
    {
      "cell_type": "markdown",
      "source": [
        "We can use **np.array()** to create arrays from Python list. An array is a special variable, which can hold more than one value. Unlike lists, NumPy arrays are of fixed size, and changing the size of an array will lead to the creation of a new array while the original array will be deleted. All the elements in an array are of the same type.\n",
        "Numpy arrays are faster, more efficient, and require less syntax than standard Python sequences."
      ],
      "metadata": {
        "id": "IO6U0vveXbQG"
      }
    },
    {
      "cell_type": "code",
      "source": [
        "import numpy as np\n",
        "np.array([1, 4, 2, 5, 3])"
      ],
      "metadata": {
        "colab": {
          "base_uri": "https://localhost:8080/"
        },
        "id": "VRBaWHkWXfYw",
        "outputId": "9b312e11-163a-4657-d5f1-d24e53780c79"
      },
      "execution_count": null,
      "outputs": [
        {
          "output_type": "execute_result",
          "data": {
            "text/plain": [
              "array([1, 4, 2, 5, 3])"
            ]
          },
          "metadata": {},
          "execution_count": 7
        }
      ]
    },
    {
      "cell_type": "markdown",
      "source": [
        "This is an array of integer. This data type was automatically chosen. If we include at least one value that is a float than the whole array will be defined as floating characters (you can see that by the '.' at the end of a number)."
      ],
      "metadata": {
        "id": "pd8KJpm9YAqK"
      }
    },
    {
      "cell_type": "code",
      "source": [
        "np.array([3.14, 4, 2, 3])"
      ],
      "metadata": {
        "colab": {
          "base_uri": "https://localhost:8080/"
        },
        "id": "WBp4EATpYT3E",
        "outputId": "d09e8bee-fc26-4e75-ae7e-e29d9fa8ed6b"
      },
      "execution_count": null,
      "outputs": [
        {
          "output_type": "execute_result",
          "data": {
            "text/plain": [
              "array([3.14, 4.  , 2.  , 3.  ])"
            ]
          },
          "metadata": {},
          "execution_count": 8
        }
      ]
    },
    {
      "cell_type": "markdown",
      "source": [
        "NumPy arrays can be multidimensional. Here's one way of initializing a multidimensional array using a list of lists. i is an index."
      ],
      "metadata": {
        "id": "EazmErT6Ye4E"
      }
    },
    {
      "cell_type": "code",
      "source": [
        "np.array([range(i, i + 3) for i in [2, 4, 6]])"
      ],
      "metadata": {
        "colab": {
          "base_uri": "https://localhost:8080/"
        },
        "id": "Nd7tpqB1YfwK",
        "outputId": "1df314b9-0943-4676-bdba-732f85b83f03"
      },
      "execution_count": null,
      "outputs": [
        {
          "output_type": "execute_result",
          "data": {
            "text/plain": [
              "array([[2, 3, 4],\n",
              "       [4, 5, 6],\n",
              "       [6, 7, 8]])"
            ]
          },
          "metadata": {},
          "execution_count": 9
        }
      ]
    },
    {
      "cell_type": "markdown",
      "source": [
        "##Special arrays\n",
        "Sometimes it is useful to create arrays that are already filled for a specific purpose. Here are some examples. The **dtype** parameter determines the data type, i.e. integer (int) or float."
      ],
      "metadata": {
        "id": "v6DmmaeRYlWm"
      }
    },
    {
      "cell_type": "code",
      "source": [
        "# Create a length-10 integer array filled with 0s\n",
        "np.zeros(10, dtype=int)"
      ],
      "metadata": {
        "colab": {
          "base_uri": "https://localhost:8080/"
        },
        "id": "Wee2DS-QYxr6",
        "outputId": "122067a9-4860-44cf-920d-76684028f920"
      },
      "execution_count": null,
      "outputs": [
        {
          "output_type": "execute_result",
          "data": {
            "text/plain": [
              "array([0, 0, 0, 0, 0, 0, 0, 0, 0, 0])"
            ]
          },
          "metadata": {},
          "execution_count": 10
        }
      ]
    },
    {
      "cell_type": "code",
      "source": [
        "# Create a 3x5 floating-point array filled with 1s\n",
        "np.ones((3, 5), dtype=float)"
      ],
      "metadata": {
        "colab": {
          "base_uri": "https://localhost:8080/"
        },
        "id": "D6Yy7SauY37v",
        "outputId": "1fac380a-8b6f-4843-9467-e8ebd57cd0d5"
      },
      "execution_count": null,
      "outputs": [
        {
          "output_type": "execute_result",
          "data": {
            "text/plain": [
              "array([[1., 1., 1., 1., 1.],\n",
              "       [1., 1., 1., 1., 1.],\n",
              "       [1., 1., 1., 1., 1.]])"
            ]
          },
          "metadata": {},
          "execution_count": 11
        }
      ]
    },
    {
      "cell_type": "code",
      "source": [
        "# Create a 3x5 array filled with 3.14\n",
        "np.full((3, 5), 3.14)"
      ],
      "metadata": {
        "colab": {
          "base_uri": "https://localhost:8080/"
        },
        "id": "bvJH_DUiY9CV",
        "outputId": "e7452788-e8c6-4dfc-9777-84bcc4d21b44"
      },
      "execution_count": null,
      "outputs": [
        {
          "output_type": "execute_result",
          "data": {
            "text/plain": [
              "array([[3.14, 3.14, 3.14, 3.14, 3.14],\n",
              "       [3.14, 3.14, 3.14, 3.14, 3.14],\n",
              "       [3.14, 3.14, 3.14, 3.14, 3.14]])"
            ]
          },
          "metadata": {},
          "execution_count": 12
        }
      ]
    },
    {
      "cell_type": "code",
      "source": [
        "# Create an array of five values evenly spaced between 0 and 1\n",
        "np.linspace(0, 1, 5)"
      ],
      "metadata": {
        "colab": {
          "base_uri": "https://localhost:8080/"
        },
        "id": "o_tRvXRpZBpW",
        "outputId": "d8642335-b4ff-4dd4-c118-e591a5da38b4"
      },
      "execution_count": null,
      "outputs": [
        {
          "output_type": "execute_result",
          "data": {
            "text/plain": [
              "array([0.  , 0.25, 0.5 , 0.75, 1.  ])"
            ]
          },
          "metadata": {},
          "execution_count": 13
        }
      ]
    },
    {
      "cell_type": "code",
      "source": [
        "# Create a 3x3 array of uniformly distributed\n",
        "# pseudorandom values between 0 and 1\n",
        "np.random.random((3, 3))"
      ],
      "metadata": {
        "colab": {
          "base_uri": "https://localhost:8080/"
        },
        "id": "YfUFtGIiZF2d",
        "outputId": "ed079d9e-8586-4b1c-d804-3dfc346b7771"
      },
      "execution_count": null,
      "outputs": [
        {
          "output_type": "execute_result",
          "data": {
            "text/plain": [
              "array([[0.8425064 , 0.40374667, 0.35533033],\n",
              "       [0.62116045, 0.00574509, 0.52186825],\n",
              "       [0.3233079 , 0.00558418, 0.89659266]])"
            ]
          },
          "metadata": {},
          "execution_count": 14
        }
      ]
    },
    {
      "cell_type": "code",
      "source": [
        "# Create a 3x3 array of normally distributed pseudorandom\n",
        "# values with mean 0 and standard deviation 1\n",
        "np.random.normal(0, 1, (3, 3))"
      ],
      "metadata": {
        "colab": {
          "base_uri": "https://localhost:8080/"
        },
        "id": "mgreamrTZIoe",
        "outputId": "7f070ca2-dd5b-4a68-969e-1855beb55394"
      },
      "execution_count": null,
      "outputs": [
        {
          "output_type": "execute_result",
          "data": {
            "text/plain": [
              "array([[ 0.05707103,  0.25668667,  0.69687423],\n",
              "       [-0.92008523,  0.40157598,  0.97332854],\n",
              "       [-1.58076553,  0.55588106,  0.37786334]])"
            ]
          },
          "metadata": {},
          "execution_count": 15
        }
      ]
    },
    {
      "cell_type": "code",
      "source": [
        "# Create a 3x3 identity matrix\n",
        "np.eye(3)"
      ],
      "metadata": {
        "colab": {
          "base_uri": "https://localhost:8080/"
        },
        "id": "Qffk4ouAZNa3",
        "outputId": "27f4d568-696b-43bf-ca80-bb7f833d4f4f"
      },
      "execution_count": null,
      "outputs": [
        {
          "output_type": "execute_result",
          "data": {
            "text/plain": [
              "array([[1., 0., 0.],\n",
              "       [0., 1., 0.],\n",
              "       [0., 0., 1.]])"
            ]
          },
          "metadata": {},
          "execution_count": 16
        }
      ]
    },
    {
      "cell_type": "markdown",
      "source": [
        "##NumPy Array Attributes\n",
        "We define random arrays of one, two, and three dimensions. We'll use NumPy's random number generator, which we will seed with a set value in order to ensure that the same random arrays are generated each time this code is run. The general notation is\\\n",
        "*numpy.random.default_rng(seed=None)*\n"
      ],
      "metadata": {
        "id": "WZvYNSt8Zbak"
      }
    },
    {
      "cell_type": "code",
      "source": [
        "import numpy as np\n",
        "rng = np.random.default_rng(seed=1701)  # seed for reproducibility\n",
        "\n",
        "x1 = rng.integers(10, size=6)  # one-dimensional array\n",
        "x2 = rng.integers(10, size=(3, 4))  # two-dimensional array\n",
        "x3 = rng.integers(10, size=(3, 4, 5))  # three-dimensional array"
      ],
      "metadata": {
        "id": "D9y4q2PIZn0t"
      },
      "execution_count": null,
      "outputs": []
    },
    {
      "cell_type": "markdown",
      "source": [
        "Each array has attributes including **ndim** (the number of dimensions), **shape** (the size of each dimension), **size** (the total size of the array), and **dtype** (the type of each element):"
      ],
      "metadata": {
        "id": "Xx5vzPTDZujX"
      }
    },
    {
      "cell_type": "code",
      "source": [
        "print(\"x3 ndim: \", x3.ndim)\n",
        "print(\"x3 shape:\", x3.shape)\n",
        "print(\"x3 size: \", x3.size)\n",
        "print(\"dtype:   \", x3.dtype)"
      ],
      "metadata": {
        "colab": {
          "base_uri": "https://localhost:8080/"
        },
        "id": "2Q7QcUZUZvSx",
        "outputId": "20bef097-2e65-4009-e0e8-bf23bbfa3400"
      },
      "execution_count": null,
      "outputs": [
        {
          "output_type": "stream",
          "name": "stdout",
          "text": [
            "x3 ndim:  3\n",
            "x3 shape: (3, 4, 5)\n",
            "x3 size:  60\n",
            "dtype:    int64\n"
          ]
        }
      ]
    },
    {
      "cell_type": "markdown",
      "source": [
        "##Array Indexing: Accessing Single Elements\n",
        "\n",
        "Sometimes we want to access a single element of an array. You can do that by referring to the index number."
      ],
      "metadata": {
        "id": "StJts5YkZ20-"
      }
    },
    {
      "cell_type": "code",
      "source": [
        "print(x1)"
      ],
      "metadata": {
        "colab": {
          "base_uri": "https://localhost:8080/"
        },
        "id": "YJpzK81haFYa",
        "outputId": "1956b8d3-a03c-4caa-eb36-f39b2c211f84"
      },
      "execution_count": null,
      "outputs": [
        {
          "output_type": "stream",
          "name": "stdout",
          "text": [
            "[9 4 0 3 8 6]\n"
          ]
        }
      ]
    },
    {
      "cell_type": "code",
      "source": [
        "print(x1[0])"
      ],
      "metadata": {
        "colab": {
          "base_uri": "https://localhost:8080/"
        },
        "id": "Un5fhZduaKdq",
        "outputId": "8e15df9c-b310-4f15-a9c0-6c2c04320914"
      },
      "execution_count": null,
      "outputs": [
        {
          "output_type": "stream",
          "name": "stdout",
          "text": [
            "9\n"
          ]
        }
      ]
    },
    {
      "cell_type": "code",
      "source": [
        "print(x1[4])"
      ],
      "metadata": {
        "colab": {
          "base_uri": "https://localhost:8080/"
        },
        "id": "024rX0-oaOk2",
        "outputId": "746f9b94-0169-4b5e-e085-6ab301a8e021"
      },
      "execution_count": null,
      "outputs": [
        {
          "output_type": "stream",
          "name": "stdout",
          "text": [
            "8\n"
          ]
        }
      ]
    },
    {
      "cell_type": "markdown",
      "source": [
        "To index from the end of the array, you can use negative indices:"
      ],
      "metadata": {
        "id": "MPXGppFVaTtX"
      }
    },
    {
      "cell_type": "code",
      "source": [
        "print(x1[-1])"
      ],
      "metadata": {
        "colab": {
          "base_uri": "https://localhost:8080/"
        },
        "id": "oBnlvMdaaUgt",
        "outputId": "2eaddfae-94fc-4a14-978c-a7e906b7770d"
      },
      "execution_count": null,
      "outputs": [
        {
          "output_type": "stream",
          "name": "stdout",
          "text": [
            "6\n"
          ]
        }
      ]
    },
    {
      "cell_type": "code",
      "source": [
        "print(x1[-2])"
      ],
      "metadata": {
        "colab": {
          "base_uri": "https://localhost:8080/"
        },
        "id": "-gnWT4KiaYmG",
        "outputId": "a2e4e4b6-5824-4359-84f1-dbf001f7e626"
      },
      "execution_count": null,
      "outputs": [
        {
          "output_type": "stream",
          "name": "stdout",
          "text": [
            "8\n"
          ]
        }
      ]
    },
    {
      "cell_type": "markdown",
      "source": [
        "In a multidimensional array, items can be accessed using a comma-separated (row, column) tuple:"
      ],
      "metadata": {
        "id": "MmoCpAHBaek5"
      }
    },
    {
      "cell_type": "code",
      "source": [
        "print(x2)"
      ],
      "metadata": {
        "colab": {
          "base_uri": "https://localhost:8080/"
        },
        "id": "zAMHRRq0afRJ",
        "outputId": "0fffc52e-a917-449a-dcfc-d18851238be8"
      },
      "execution_count": null,
      "outputs": [
        {
          "output_type": "stream",
          "name": "stdout",
          "text": [
            "[[3 1 3 7]\n",
            " [4 0 2 3]\n",
            " [0 0 6 9]]\n"
          ]
        }
      ]
    },
    {
      "cell_type": "code",
      "source": [
        "print(x2[0, 0])"
      ],
      "metadata": {
        "colab": {
          "base_uri": "https://localhost:8080/"
        },
        "id": "KfsCfm10alel",
        "outputId": "d0500b83-422c-4105-bc16-3659311eefd6"
      },
      "execution_count": null,
      "outputs": [
        {
          "output_type": "stream",
          "name": "stdout",
          "text": [
            "3\n"
          ]
        }
      ]
    },
    {
      "cell_type": "code",
      "source": [
        "print(x2[2, 0])"
      ],
      "metadata": {
        "colab": {
          "base_uri": "https://localhost:8080/"
        },
        "id": "CJFgutW7aq2I",
        "outputId": "6c1ac3ea-3bbc-463b-db0d-1feb602e66ae"
      },
      "execution_count": null,
      "outputs": [
        {
          "output_type": "stream",
          "name": "stdout",
          "text": [
            "0\n"
          ]
        }
      ]
    },
    {
      "cell_type": "code",
      "source": [
        "print(x2[2, -1])"
      ],
      "metadata": {
        "colab": {
          "base_uri": "https://localhost:8080/"
        },
        "id": "fU7dTXJgavIT",
        "outputId": "c1942ce9-b8a0-45fe-ce9f-3ce970d4b2aa"
      },
      "execution_count": null,
      "outputs": [
        {
          "output_type": "stream",
          "name": "stdout",
          "text": [
            "9\n"
          ]
        }
      ]
    },
    {
      "cell_type": "markdown",
      "source": [
        "Values can also be modified using any of the preceding index notation"
      ],
      "metadata": {
        "id": "husqUMNqazvU"
      }
    },
    {
      "cell_type": "code",
      "source": [
        "x2[0, 0] = 12\n",
        "print(x2)"
      ],
      "metadata": {
        "colab": {
          "base_uri": "https://localhost:8080/"
        },
        "id": "yQUrWT-ta1WG",
        "outputId": "70c334f3-b089-4313-d671-1c11a168263f"
      },
      "execution_count": null,
      "outputs": [
        {
          "output_type": "stream",
          "name": "stdout",
          "text": [
            "[[12  1  3  7]\n",
            " [ 4  0  2  3]\n",
            " [ 0  0  6  9]]\n"
          ]
        }
      ]
    },
    {
      "cell_type": "markdown",
      "source": [
        "##Array slicing: accessing subarrays\n",
        "Just as we can use square brackets to access individual array elements, we can also use them to access subarrays with the slice notation, marked by the colon (:) character. The NumPy slicing syntax follows that of the standard Python list; to access a slice of an array x, use this:\n",
        "\n",
        "*x[start:stop:step]*\n",
        "\n",
        "\n",
        "If any of these are unspecified, they default to the values start = 0, stop = (size of dimension), step = 1. Let's look at some examples of accessing subarrays in one dimension and in multiple dimensions"
      ],
      "metadata": {
        "id": "_Kbi7rAda9oI"
      }
    },
    {
      "cell_type": "code",
      "source": [
        "print(x1)"
      ],
      "metadata": {
        "colab": {
          "base_uri": "https://localhost:8080/"
        },
        "id": "A5l5k0VNbFYI",
        "outputId": "df9f5295-aba8-4210-e447-166d80452130"
      },
      "execution_count": null,
      "outputs": [
        {
          "output_type": "stream",
          "name": "stdout",
          "text": [
            "[9 4 0 3 8 6]\n"
          ]
        }
      ]
    },
    {
      "cell_type": "code",
      "source": [
        "print(x1[:3])  # first three elements"
      ],
      "metadata": {
        "colab": {
          "base_uri": "https://localhost:8080/"
        },
        "id": "AdkVqP8kbLuQ",
        "outputId": "e5c5bc1d-44ff-4c90-effd-c2d7c0ea0b95"
      },
      "execution_count": null,
      "outputs": [
        {
          "output_type": "stream",
          "name": "stdout",
          "text": [
            "[9 4 0]\n"
          ]
        }
      ]
    },
    {
      "cell_type": "code",
      "source": [
        "print(x1[3:])  # elements after index 3"
      ],
      "metadata": {
        "colab": {
          "base_uri": "https://localhost:8080/"
        },
        "id": "0QPq3uoKbVpm",
        "outputId": "ddd188e5-aa43-4c49-e641-4ec72fe0c4bb"
      },
      "execution_count": null,
      "outputs": [
        {
          "output_type": "stream",
          "name": "stdout",
          "text": [
            "[3 8 6]\n"
          ]
        }
      ]
    },
    {
      "cell_type": "code",
      "source": [
        "print(x1[1:4])  # middle subarray"
      ],
      "metadata": {
        "colab": {
          "base_uri": "https://localhost:8080/"
        },
        "id": "JJZ-4hhBbapr",
        "outputId": "6d90ad84-2fa1-4052-b54f-c3fed77fb656"
      },
      "execution_count": null,
      "outputs": [
        {
          "output_type": "stream",
          "name": "stdout",
          "text": [
            "[4 0 3]\n"
          ]
        }
      ]
    },
    {
      "cell_type": "code",
      "source": [
        "print(x1[::2])  # every second element"
      ],
      "metadata": {
        "colab": {
          "base_uri": "https://localhost:8080/"
        },
        "id": "fP19PtaUbhST",
        "outputId": "6591e694-90b2-4857-b633-c2b9879c21d1"
      },
      "execution_count": null,
      "outputs": [
        {
          "output_type": "stream",
          "name": "stdout",
          "text": [
            "[9 0 8]\n"
          ]
        }
      ]
    },
    {
      "cell_type": "code",
      "source": [
        "print(x1[1::2])  # every second element, starting at index 1"
      ],
      "metadata": {
        "colab": {
          "base_uri": "https://localhost:8080/"
        },
        "id": "FAe5V1sjbnCn",
        "outputId": "8d9eea1d-633d-464d-bdf3-8bd929f84c8d"
      },
      "execution_count": null,
      "outputs": [
        {
          "output_type": "stream",
          "name": "stdout",
          "text": [
            "[4 3 6]\n"
          ]
        }
      ]
    },
    {
      "cell_type": "markdown",
      "source": [
        "A potentially confusing case is when the step value is negative. In this case, the defaults for start and stop are swapped. This becomes a convenient way to reverse an array:"
      ],
      "metadata": {
        "id": "HI6DsG0NbsU_"
      }
    },
    {
      "cell_type": "code",
      "source": [
        "print(x1[::-1])  # all elements, reversed"
      ],
      "metadata": {
        "colab": {
          "base_uri": "https://localhost:8080/"
        },
        "id": "-uI7BuhbbuKl",
        "outputId": "f7fbb1fa-2152-4913-897b-9ecf679c4646"
      },
      "execution_count": null,
      "outputs": [
        {
          "output_type": "stream",
          "name": "stdout",
          "text": [
            "[6 8 3 0 4 9]\n"
          ]
        }
      ]
    },
    {
      "cell_type": "markdown",
      "source": [
        "###Multidimensional subarrays\n",
        "Multidimensional slices work in the same way, with multiple slices separated by commas. For example:"
      ],
      "metadata": {
        "id": "mdlexLrBb5I_"
      }
    },
    {
      "cell_type": "code",
      "source": [
        "print(x2)"
      ],
      "metadata": {
        "colab": {
          "base_uri": "https://localhost:8080/"
        },
        "id": "J_MngnC6cXvy",
        "outputId": "2aeb5ffd-d5ee-4f04-e9e5-c5f5b0eb6a61"
      },
      "execution_count": null,
      "outputs": [
        {
          "output_type": "stream",
          "name": "stdout",
          "text": [
            "[[12  1  3  7]\n",
            " [ 4  0  2  3]\n",
            " [ 0  0  6  9]]\n"
          ]
        }
      ]
    },
    {
      "cell_type": "code",
      "source": [
        "print(x2[:2, :3])  # first two rows & three columns"
      ],
      "metadata": {
        "colab": {
          "base_uri": "https://localhost:8080/"
        },
        "id": "pXrGiHr1cDch",
        "outputId": "56cbef59-eaf8-40d8-c2a3-fdd538961dfe"
      },
      "execution_count": null,
      "outputs": [
        {
          "output_type": "stream",
          "name": "stdout",
          "text": [
            "[[12  1  3]\n",
            " [ 4  0  2]]\n"
          ]
        }
      ]
    },
    {
      "cell_type": "code",
      "source": [
        "print(x2[:3, ::2])  # three rows, every second column"
      ],
      "metadata": {
        "colab": {
          "base_uri": "https://localhost:8080/"
        },
        "id": "Hx5mhjhxch5u",
        "outputId": "6dd603fe-e699-493e-bade-050bb4da129b"
      },
      "execution_count": null,
      "outputs": [
        {
          "output_type": "stream",
          "name": "stdout",
          "text": [
            "[[12  3]\n",
            " [ 4  2]\n",
            " [ 0  6]]\n"
          ]
        }
      ]
    },
    {
      "cell_type": "markdown",
      "source": [
        "###Accessing array rows and columns\n",
        "One commonly needed routine is accessing single rows or columns of an array. This can be done by combining indexing and slicing, using an empty slice marked by a single colon (:):"
      ],
      "metadata": {
        "id": "OdZks6x8cpm3"
      }
    },
    {
      "cell_type": "code",
      "source": [
        "print(x2[:, 0])  # first column of x2"
      ],
      "metadata": {
        "colab": {
          "base_uri": "https://localhost:8080/"
        },
        "id": "iC8dq3bccuTp",
        "outputId": "7cc705ba-0b55-42b1-a337-9f522683cabd"
      },
      "execution_count": null,
      "outputs": [
        {
          "output_type": "stream",
          "name": "stdout",
          "text": [
            "[12  4  0]\n"
          ]
        }
      ]
    },
    {
      "cell_type": "code",
      "source": [
        "print(x2[0, :])  # first row of x2"
      ],
      "metadata": {
        "colab": {
          "base_uri": "https://localhost:8080/"
        },
        "id": "xOKrJTKzc1uH",
        "outputId": "5ab596a4-da21-48b2-a53d-1ab197040fff"
      },
      "execution_count": null,
      "outputs": [
        {
          "output_type": "stream",
          "name": "stdout",
          "text": [
            "[12  1  3  7]\n"
          ]
        }
      ]
    },
    {
      "cell_type": "markdown",
      "source": [
        "###Reshaping of arrays\n",
        "Another useful type of operation is reshaping of arrays, which can be done with the r**eshape()** method. By reshaping we can add or remove dimensions or change number of elements in each dimension. For example, if you want to put the numbers 1 through 9 in a  3×3  grid, you can do the following:"
      ],
      "metadata": {
        "id": "CyoH1omvdPG0"
      }
    },
    {
      "cell_type": "code",
      "source": [
        "grid = np.arange(1, 10).reshape(3, 3)\n",
        "print(grid)"
      ],
      "metadata": {
        "colab": {
          "base_uri": "https://localhost:8080/"
        },
        "id": "w64qpAiZdRFo",
        "outputId": "ee1d08d0-c3c3-4a01-df9e-e0a3f78faed9"
      },
      "execution_count": null,
      "outputs": [
        {
          "output_type": "stream",
          "name": "stdout",
          "text": [
            "[[1 2 3]\n",
            " [4 5 6]\n",
            " [7 8 9]]\n"
          ]
        }
      ]
    },
    {
      "cell_type": "markdown",
      "source": [
        "Note that for this to work, the size of the initial array must match the size of the reshaped array, and in most cases the reshape method will return a no-copy view of the initial array.\n",
        "\n",
        "A common reshaping operation is converting a one-dimensional array into a two-dimensional row or column matrix:"
      ],
      "metadata": {
        "id": "xOanceQ2daaT"
      }
    },
    {
      "cell_type": "code",
      "source": [
        "x = np.array([1, 2, 3])\n",
        "x.reshape((1, 3))  # row vector via reshape"
      ],
      "metadata": {
        "colab": {
          "base_uri": "https://localhost:8080/"
        },
        "id": "zv_ZYGuVdbOS",
        "outputId": "2e8fec4b-35dc-40db-8ef4-afbc976835f3"
      },
      "execution_count": null,
      "outputs": [
        {
          "output_type": "execute_result",
          "data": {
            "text/plain": [
              "array([[1, 2, 3]])"
            ]
          },
          "metadata": {},
          "execution_count": 46
        }
      ]
    },
    {
      "cell_type": "code",
      "source": [
        "x.reshape((3, 1))  # column vector via reshape"
      ],
      "metadata": {
        "colab": {
          "base_uri": "https://localhost:8080/"
        },
        "id": "h8nqKoXkdg3X",
        "outputId": "d8d77fa0-a8e3-46ad-eded-8cb9887f5200"
      },
      "execution_count": null,
      "outputs": [
        {
          "output_type": "execute_result",
          "data": {
            "text/plain": [
              "array([[1],\n",
              "       [2],\n",
              "       [3]])"
            ]
          },
          "metadata": {},
          "execution_count": 47
        }
      ]
    },
    {
      "cell_type": "markdown",
      "source": [
        "A convenient shorthand for this is to use np.newaxis in the slicing syntax:"
      ],
      "metadata": {
        "id": "eX4j7s5kdnap"
      }
    },
    {
      "cell_type": "code",
      "source": [
        "x[np.newaxis, :]  # row vector via newaxis"
      ],
      "metadata": {
        "colab": {
          "base_uri": "https://localhost:8080/"
        },
        "id": "3ptFP9E1doHf",
        "outputId": "af6f2b3e-6cbd-43b6-e1e7-bb947ad6f0a8"
      },
      "execution_count": null,
      "outputs": [
        {
          "output_type": "execute_result",
          "data": {
            "text/plain": [
              "array([[1, 2, 3]])"
            ]
          },
          "metadata": {},
          "execution_count": 48
        }
      ]
    },
    {
      "cell_type": "code",
      "source": [
        "x[:, np.newaxis]  # column vector via newaxis"
      ],
      "metadata": {
        "colab": {
          "base_uri": "https://localhost:8080/"
        },
        "id": "1L8yMzY1dtYl",
        "outputId": "c30c3b4b-9726-44d5-c36d-53f8bc4b053f"
      },
      "execution_count": null,
      "outputs": [
        {
          "output_type": "execute_result",
          "data": {
            "text/plain": [
              "array([[1],\n",
              "       [2],\n",
              "       [3]])"
            ]
          },
          "metadata": {},
          "execution_count": 49
        }
      ]
    },
    {
      "cell_type": "markdown",
      "source": [
        "##Concatenation of arrays\n",
        "Concatenation, or joining of two arrays in NumPy, is primarily accomplished using the routines **np.concatenate()**, **np.vstack(),** and **np.hstack()**. np.concatenate takes a tuple or list of arrays as its first argument, as you can see here:"
      ],
      "metadata": {
        "id": "j02_Vlq6d0Pg"
      }
    },
    {
      "cell_type": "code",
      "source": [
        "x = np.array([1, 2, 3])\n",
        "y = np.array([3, 2, 1])\n",
        "np.concatenate([x, y])"
      ],
      "metadata": {
        "colab": {
          "base_uri": "https://localhost:8080/"
        },
        "id": "4GcRgR3zd8cA",
        "outputId": "49be2cbf-5fcd-4921-b120-b8bf5f9704eb"
      },
      "execution_count": null,
      "outputs": [
        {
          "output_type": "execute_result",
          "data": {
            "text/plain": [
              "array([1, 2, 3, 3, 2, 1])"
            ]
          },
          "metadata": {},
          "execution_count": 50
        }
      ]
    },
    {
      "cell_type": "markdown",
      "source": [
        "You can also concatenate more than two arrays at once:"
      ],
      "metadata": {
        "id": "P-05wvixeBgc"
      }
    },
    {
      "cell_type": "code",
      "source": [
        "z = np.array([99, 99, 99])\n",
        "print(np.concatenate([x, y, z]))"
      ],
      "metadata": {
        "colab": {
          "base_uri": "https://localhost:8080/"
        },
        "id": "vnGbuS7feCHI",
        "outputId": "4d457d81-3ea3-413d-dc66-6ac6962eb827"
      },
      "execution_count": null,
      "outputs": [
        {
          "output_type": "stream",
          "name": "stdout",
          "text": [
            "[ 1  2  3  3  2  1 99 99 99]\n"
          ]
        }
      ]
    },
    {
      "cell_type": "markdown",
      "source": [
        "And it can be used for two-dimensional arrays:"
      ],
      "metadata": {
        "id": "rk73ruqfeIsk"
      }
    },
    {
      "cell_type": "code",
      "source": [
        "grid = np.array([[1, 2, 3],\n",
        "                 [4, 5, 6]])"
      ],
      "metadata": {
        "id": "28p95iIweMXg"
      },
      "execution_count": null,
      "outputs": []
    },
    {
      "cell_type": "code",
      "source": [
        "# concatenate along the first axis\n",
        "np.concatenate([grid, grid])"
      ],
      "metadata": {
        "colab": {
          "base_uri": "https://localhost:8080/"
        },
        "id": "Yg473fpdeRjQ",
        "outputId": "9151e664-8e46-40c7-ef34-f4807f6be3f6"
      },
      "execution_count": null,
      "outputs": [
        {
          "output_type": "execute_result",
          "data": {
            "text/plain": [
              "array([[1, 2, 3],\n",
              "       [4, 5, 6],\n",
              "       [1, 2, 3],\n",
              "       [4, 5, 6]])"
            ]
          },
          "metadata": {},
          "execution_count": 53
        }
      ]
    },
    {
      "cell_type": "code",
      "source": [
        "# concatenate along the second axis (zero-indexed)\n",
        "np.concatenate([grid, grid], axis=1)"
      ],
      "metadata": {
        "colab": {
          "base_uri": "https://localhost:8080/"
        },
        "id": "pkg5ELeOeVLY",
        "outputId": "c7902f46-7074-4268-f17e-35da34b345d1"
      },
      "execution_count": null,
      "outputs": [
        {
          "output_type": "execute_result",
          "data": {
            "text/plain": [
              "array([[1, 2, 3, 1, 2, 3],\n",
              "       [4, 5, 6, 4, 5, 6]])"
            ]
          },
          "metadata": {},
          "execution_count": 54
        }
      ]
    },
    {
      "cell_type": "markdown",
      "source": [
        "For working with arrays of mixed dimensions, it can be clearer to use the **np.vstack** (vertical stack) and **np.hstack** (horizontal stack) functions:"
      ],
      "metadata": {
        "id": "kbyAGfY3eYe3"
      }
    },
    {
      "cell_type": "code",
      "source": [
        "# vertically stack the arrays\n",
        "np.vstack([x, grid])"
      ],
      "metadata": {
        "colab": {
          "base_uri": "https://localhost:8080/"
        },
        "id": "qBsiOS4xeZdE",
        "outputId": "1bb1968f-d46a-4b40-f281-e626359ff1cd"
      },
      "execution_count": null,
      "outputs": [
        {
          "output_type": "execute_result",
          "data": {
            "text/plain": [
              "array([[1, 2, 3],\n",
              "       [1, 2, 3],\n",
              "       [4, 5, 6]])"
            ]
          },
          "metadata": {},
          "execution_count": 55
        }
      ]
    },
    {
      "cell_type": "code",
      "source": [
        "# horizontally stack the arrays\n",
        "y = np.array([[99],\n",
        "              [99]])\n",
        "np.hstack([grid, y])"
      ],
      "metadata": {
        "colab": {
          "base_uri": "https://localhost:8080/"
        },
        "id": "v72Jz7D_efAe",
        "outputId": "c7f44a8d-547e-4be5-ad7a-b15cbd1bbfcd"
      },
      "execution_count": null,
      "outputs": [
        {
          "output_type": "execute_result",
          "data": {
            "text/plain": [
              "array([[ 1,  2,  3, 99],\n",
              "       [ 4,  5,  6, 99]])"
            ]
          },
          "metadata": {},
          "execution_count": 56
        }
      ]
    },
    {
      "cell_type": "markdown",
      "source": [
        "Similarly, for higher-dimensional arrays, **np.dstack()** will stack arrays along the third axis."
      ],
      "metadata": {
        "id": "2agZY9_eeiXI"
      }
    },
    {
      "cell_type": "markdown",
      "source": [
        "##Functions\n",
        "###Array Arithmetic\n",
        "NumPy's functions feel very natural to use because they make use of Python's native arithmetic operators. The standard addition, subtraction, multiplication, and division can all be used. In the example we use the **arange()** function that returns evenly spaced values with a given interval. The general form is\\\n",
        " numpy.arange([start, ]stop, [step, ]dtype=None, like=None)\n"
      ],
      "metadata": {
        "id": "Wb5NyLOMezhk"
      }
    },
    {
      "cell_type": "code",
      "source": [
        "x = np.arange(4)\n",
        "print(\"x      =\", x)\n",
        "print(\"x + 5  =\", x + 5)\n",
        "print(\"x - 5  =\", x - 5)\n",
        "print(\"x * 2  =\", x * 2)\n",
        "print(\"x / 2  =\", x / 2)\n",
        "print(\"x // 2 =\", x // 2)  # floor division"
      ],
      "metadata": {
        "colab": {
          "base_uri": "https://localhost:8080/"
        },
        "id": "Q3FezvAbe_5S",
        "outputId": "217c0fbb-4d47-46f2-b096-6d60988f0575"
      },
      "execution_count": null,
      "outputs": [
        {
          "output_type": "stream",
          "name": "stdout",
          "text": [
            "x      = [0 1 2 3]\n",
            "x + 5  = [5 6 7 8]\n",
            "x - 5  = [-5 -4 -3 -2]\n",
            "x * 2  = [0 2 4 6]\n",
            "x / 2  = [0.  0.5 1.  1.5]\n",
            "x // 2 = [0 0 1 1]\n"
          ]
        }
      ]
    },
    {
      "cell_type": "markdown",
      "source": [
        "There is also a function for negation, a ** operator for exponentiation, and a % operator for modulus:"
      ],
      "metadata": {
        "id": "iFrIKvW0fGpd"
      }
    },
    {
      "cell_type": "code",
      "source": [
        "print(\"-x     = \", -x)\n",
        "print(\"x ** 2 = \", x ** 2)\n",
        "print(\"x % 2  = \", x % 2)"
      ],
      "metadata": {
        "colab": {
          "base_uri": "https://localhost:8080/"
        },
        "id": "bgFeKQfDfI3E",
        "outputId": "c77dc6e9-1fd4-42e9-b324-c86712b572a2"
      },
      "execution_count": null,
      "outputs": [
        {
          "output_type": "stream",
          "name": "stdout",
          "text": [
            "-x     =  [ 0 -1 -2 -3]\n",
            "x ** 2 =  [0 1 4 9]\n",
            "x % 2  =  [0 1 0 1]\n"
          ]
        }
      ]
    },
    {
      "cell_type": "markdown",
      "source": [
        " These can be strung together with the standard order of operations:"
      ],
      "metadata": {
        "id": "vfiFsOyOfPTP"
      }
    },
    {
      "cell_type": "code",
      "source": [
        "-(0.5*x + 1) ** 2"
      ],
      "metadata": {
        "colab": {
          "base_uri": "https://localhost:8080/"
        },
        "id": "hTgXD1L_fW_J",
        "outputId": "7a443738-33f1-45e4-cd01-ecddf2846a96"
      },
      "execution_count": null,
      "outputs": [
        {
          "output_type": "execute_result",
          "data": {
            "text/plain": [
              "array([-1.  , -2.25, -4.  , -6.25])"
            ]
          },
          "metadata": {},
          "execution_count": 59
        }
      ]
    },
    {
      "cell_type": "code",
      "source": [
        "#absolute value\n",
        "x = np.array([-2, -1, 0, 1, 2])\n",
        "np.abs(x)"
      ],
      "metadata": {
        "colab": {
          "base_uri": "https://localhost:8080/"
        },
        "id": "MZsLBxLqfjy0",
        "outputId": "e05a639a-9413-4939-c35b-778e430ea62a"
      },
      "execution_count": null,
      "outputs": [
        {
          "output_type": "execute_result",
          "data": {
            "text/plain": [
              "array([2, 1, 0, 1, 2])"
            ]
          },
          "metadata": {},
          "execution_count": 60
        }
      ]
    },
    {
      "cell_type": "code",
      "source": [
        "#Trigonometric Functions\n",
        "theta = np.linspace(0, np.pi, 3)"
      ],
      "metadata": {
        "id": "B0wzXYHef0Se"
      },
      "execution_count": null,
      "outputs": []
    },
    {
      "cell_type": "markdown",
      "source": [
        "The **numpy.linspace()** function returns numbers spaces evenly w.r.t interval. Similar to numpy.arange() function but instead of steps it uses sample number. The general syntax is\\\n",
        "numpy.linspace(start,\n",
        "               stop,\n",
        "               num = 50,\n",
        "               endpoint = True,\n",
        "               retstep = False,\n",
        "               dtype = None)\\\n",
        "  Here *num* is the number of samples to generate."
      ],
      "metadata": {
        "id": "xEDwgz9S-_j6"
      }
    },
    {
      "cell_type": "code",
      "source": [
        "print(\"theta      = \", theta)\n",
        "print(\"sin(theta) = \", np.sin(theta))\n",
        "print(\"cos(theta) = \", np.cos(theta))\n",
        "print(\"tan(theta) = \", np.tan(theta))"
      ],
      "metadata": {
        "colab": {
          "base_uri": "https://localhost:8080/"
        },
        "id": "DOhaDrKAf4KF",
        "outputId": "8f496861-3ca0-4423-85a0-958d2bcc3303"
      },
      "execution_count": null,
      "outputs": [
        {
          "output_type": "stream",
          "name": "stdout",
          "text": [
            "theta      =  [0.         1.57079633 3.14159265]\n",
            "sin(theta) =  [0.0000000e+00 1.0000000e+00 1.2246468e-16]\n",
            "cos(theta) =  [ 1.000000e+00  6.123234e-17 -1.000000e+00]\n",
            "tan(theta) =  [ 0.00000000e+00  1.63312394e+16 -1.22464680e-16]\n"
          ]
        }
      ]
    },
    {
      "cell_type": "code",
      "source": [
        "#Exponents\n",
        "x = [1, 2, 3]\n",
        "print(\"x   =\", x)\n",
        "print(\"e^x =\", np.exp(x))\n",
        "print(\"2^x =\", np.exp2(x))\n",
        "print(\"3^x =\", np.power(3., x))"
      ],
      "metadata": {
        "colab": {
          "base_uri": "https://localhost:8080/"
        },
        "id": "e4Cai6HCgBgV",
        "outputId": "80426256-4d4e-4946-83d3-d4ba3571c7a4"
      },
      "execution_count": null,
      "outputs": [
        {
          "output_type": "stream",
          "name": "stdout",
          "text": [
            "x   = [1, 2, 3]\n",
            "e^x = [ 2.71828183  7.3890561  20.08553692]\n",
            "2^x = [2. 4. 8.]\n",
            "3^x = [ 3.  9. 27.]\n"
          ]
        }
      ]
    },
    {
      "cell_type": "code",
      "source": [
        "#Logarithms\n",
        "x = [1, 2, 4, 10]\n",
        "print(\"x        =\", x)\n",
        "print(\"ln(x)    =\", np.log(x))\n",
        "print(\"log2(x)  =\", np.log2(x))\n",
        "print(\"log10(x) =\", np.log10(x))"
      ],
      "metadata": {
        "colab": {
          "base_uri": "https://localhost:8080/"
        },
        "id": "ERpwvm6TgNEb",
        "outputId": "51d37296-aadf-487d-dbf3-698316a3d0a0"
      },
      "execution_count": null,
      "outputs": [
        {
          "output_type": "stream",
          "name": "stdout",
          "text": [
            "x        = [1, 2, 4, 10]\n",
            "ln(x)    = [0.         0.69314718 1.38629436 2.30258509]\n",
            "log2(x)  = [0.         1.         2.         3.32192809]\n",
            "log10(x) = [0.         0.30103    0.60205999 1.        ]\n"
          ]
        }
      ]
    },
    {
      "cell_type": "code",
      "source": [
        "#minimum and maximum\n",
        "big_array = rng.random(1000000)\n",
        "print(np.min(big_array), np.max(big_array))"
      ],
      "metadata": {
        "colab": {
          "base_uri": "https://localhost:8080/"
        },
        "id": "QwgLaKn6g-2X",
        "outputId": "c5343309-fd6c-4b9e-98bd-bd802554d73c"
      },
      "execution_count": null,
      "outputs": [
        {
          "output_type": "stream",
          "name": "stdout",
          "text": [
            "1.738670563078415e-06 0.9999980069594879\n"
          ]
        }
      ]
    },
    {
      "cell_type": "code",
      "source": [
        "#summation\n",
        "L = rng.random(100)\n",
        "np.sum(L)"
      ],
      "metadata": {
        "colab": {
          "base_uri": "https://localhost:8080/"
        },
        "id": "5a-d1saBgnAj",
        "outputId": "24623b2f-87ac-4532-c8b0-3d59a3a555ba"
      },
      "execution_count": null,
      "outputs": [
        {
          "output_type": "execute_result",
          "data": {
            "text/plain": [
              "50.47145448941101"
            ]
          },
          "metadata": {},
          "execution_count": 65
        }
      ]
    },
    {
      "cell_type": "code",
      "source": [
        "M = np.array([[0, 3 ,1, 2] ,[1 ,9, 7, 0] ,[4, 8, 3, 7]])\n",
        "print(M)"
      ],
      "metadata": {
        "colab": {
          "base_uri": "https://localhost:8080/"
        },
        "id": "KCVN_Avbhi6Q",
        "outputId": "85285588-2aa8-4c8a-8207-3b650d4e483b"
      },
      "execution_count": null,
      "outputs": [
        {
          "output_type": "stream",
          "name": "stdout",
          "text": [
            "[[0 3 1 2]\n",
            " [1 9 7 0]\n",
            " [4 8 3 7]]\n"
          ]
        }
      ]
    },
    {
      "cell_type": "markdown",
      "source": [
        "NumPy aggregations will apply across all elements of a multidimensional array"
      ],
      "metadata": {
        "id": "2lwdp-KZiCJP"
      }
    },
    {
      "cell_type": "code",
      "source": [
        "M.sum()"
      ],
      "metadata": {
        "colab": {
          "base_uri": "https://localhost:8080/"
        },
        "id": "IVTJQj7ViC4p",
        "outputId": "1f0036a2-7b4e-462a-ca87-3851da482a76"
      },
      "execution_count": null,
      "outputs": [
        {
          "output_type": "execute_result",
          "data": {
            "text/plain": [
              "45"
            ]
          },
          "metadata": {},
          "execution_count": 73
        }
      ]
    },
    {
      "cell_type": "markdown",
      "source": [
        "Aggregation functions take an additional argument specifying the axis along which the aggregate is computed. For example, we can find the minimum value within each column by specifying *axis=0*:"
      ],
      "metadata": {
        "id": "BKF7BYtfiMmC"
      }
    },
    {
      "cell_type": "code",
      "source": [
        "M.min(axis=0)"
      ],
      "metadata": {
        "colab": {
          "base_uri": "https://localhost:8080/"
        },
        "id": "LyAnK0PWiNOp",
        "outputId": "f57bfb79-d41a-43f5-ab1e-db330ebdc466"
      },
      "execution_count": null,
      "outputs": [
        {
          "output_type": "execute_result",
          "data": {
            "text/plain": [
              "array([0, 3, 1, 0])"
            ]
          },
          "metadata": {},
          "execution_count": 74
        }
      ]
    },
    {
      "cell_type": "markdown",
      "source": [
        "The function returns four values, corresponding to the four columns of numbers.\n",
        "\n",
        "Similarly, we can find the maximum value within each row:"
      ],
      "metadata": {
        "id": "lDeIg8QviShV"
      }
    },
    {
      "cell_type": "code",
      "source": [
        "M.max(axis=1)"
      ],
      "metadata": {
        "colab": {
          "base_uri": "https://localhost:8080/"
        },
        "id": "g58yp1D6iV6-",
        "outputId": "8f10327f-a6f0-44a4-97dc-1ef8e9f309da"
      },
      "execution_count": null,
      "outputs": [
        {
          "output_type": "execute_result",
          "data": {
            "text/plain": [
              "array([3, 9, 8])"
            ]
          },
          "metadata": {},
          "execution_count": 75
        }
      ]
    },
    {
      "cell_type": "markdown",
      "source": [
        "##Write your own function\n",
        "\n",
        "During data analysis it will be necessary for you to write your own functions. A function is a block of code which only runs when it is called. You can pass data, known as parameters, into a function.\n",
        "A function can return data as a result. Please make sure to pay attention to the indentation of the code. Information can be passed into functions as arguments.\n",
        "Arguments are specified after the function name, inside the parentheses. You can add as many arguments as you want, just separate them with a comma."
      ],
      "metadata": {
        "id": "_2EvIh14VfGG"
      }
    },
    {
      "cell_type": "code",
      "source": [
        "#define a function\n",
        "def square_func(x):\n",
        "  q = x*x\n",
        "  print('number: ', x, 'squared: ', q)\n",
        "\n",
        "#main program\n",
        "#call the function\n",
        "square_func(4.5)\n",
        "a = 3\n",
        "square_func(a)\n",
        "square_func(2*a)"
      ],
      "metadata": {
        "colab": {
          "base_uri": "https://localhost:8080/"
        },
        "id": "mcYNEu9eViic",
        "outputId": "646424f7-812e-4117-cc1c-df5b4483064f"
      },
      "execution_count": null,
      "outputs": [
        {
          "output_type": "stream",
          "name": "stdout",
          "text": [
            "number:  4.5 squared:  20.25\n",
            "number:  3 squared:  9\n",
            "number:  6 squared:  36\n"
          ]
        }
      ]
    },
    {
      "cell_type": "code",
      "source": [
        "#function with several parameters\n",
        "#define a function\n",
        "def calculation(x,y,z):\n",
        "  result = (x + y) * z\n",
        "  print('result: ', result)\n",
        "\n",
        "#main program\n",
        "calculation(2,3,5)\n",
        "calculation(5,2,3)\n"
      ],
      "metadata": {
        "colab": {
          "base_uri": "https://localhost:8080/"
        },
        "id": "dIhh30V_WSow",
        "outputId": "290e9183-8734-4d28-94cf-dc7771d59f1d"
      },
      "execution_count": null,
      "outputs": [
        {
          "output_type": "stream",
          "name": "stdout",
          "text": [
            "result:  25\n",
            "result:  21\n"
          ]
        }
      ]
    },
    {
      "cell_type": "markdown",
      "source": [
        "##Boolean Arrays\n",
        "Conditions can be either True (1) or False (0). This can be necessary if you use conditions to make decisions. For example if you want to delete all of the negative values in a data set you first need to answer the question: is this value negative? The answer is a boolean True or False."
      ],
      "metadata": {
        "id": "rTqbTwpwA3Zp"
      }
    },
    {
      "cell_type": "code",
      "source": [
        "x = np.array([1, 2, 3, 4, 5])"
      ],
      "metadata": {
        "id": "cHCgYFclBEuh"
      },
      "execution_count": null,
      "outputs": []
    },
    {
      "cell_type": "code",
      "source": [
        "x < 3  # less than"
      ],
      "metadata": {
        "colab": {
          "base_uri": "https://localhost:8080/"
        },
        "id": "HniUse_TBR1H",
        "outputId": "9df64bea-e4c4-438f-fdd2-b933251d1019"
      },
      "execution_count": null,
      "outputs": [
        {
          "output_type": "execute_result",
          "data": {
            "text/plain": [
              "array([ True,  True, False, False, False])"
            ]
          },
          "metadata": {},
          "execution_count": 4
        }
      ]
    },
    {
      "cell_type": "code",
      "source": [
        "x > 3  # greater than"
      ],
      "metadata": {
        "colab": {
          "base_uri": "https://localhost:8080/"
        },
        "id": "AC_o0ew1A6rz",
        "outputId": "993949a2-5bad-4982-c30c-36245ee94dbe"
      },
      "execution_count": null,
      "outputs": [
        {
          "output_type": "execute_result",
          "data": {
            "text/plain": [
              "array([False, False, False,  True,  True])"
            ]
          },
          "metadata": {},
          "execution_count": 5
        }
      ]
    },
    {
      "cell_type": "code",
      "source": [
        "x <= 3  # less than or equal"
      ],
      "metadata": {
        "colab": {
          "base_uri": "https://localhost:8080/"
        },
        "id": "w9wmNTssBVe5",
        "outputId": "b8cb7144-9486-4eaf-9de5-a27297ece231"
      },
      "execution_count": null,
      "outputs": [
        {
          "output_type": "execute_result",
          "data": {
            "text/plain": [
              "array([ True,  True,  True, False, False])"
            ]
          },
          "metadata": {},
          "execution_count": 6
        }
      ]
    },
    {
      "cell_type": "code",
      "source": [
        "x != 3  # not equal"
      ],
      "metadata": {
        "colab": {
          "base_uri": "https://localhost:8080/"
        },
        "id": "b72MgiaXBaSh",
        "outputId": "40b201f0-292a-4816-96af-6cd199c00c04"
      },
      "execution_count": null,
      "outputs": [
        {
          "output_type": "execute_result",
          "data": {
            "text/plain": [
              "array([ True,  True, False,  True,  True])"
            ]
          },
          "metadata": {},
          "execution_count": 7
        }
      ]
    },
    {
      "cell_type": "code",
      "source": [
        "x == 3  # equal"
      ],
      "metadata": {
        "colab": {
          "base_uri": "https://localhost:8080/"
        },
        "id": "iK0eM_FJBcpj",
        "outputId": "0cfc4e32-d860-454e-b4bb-62b789ee71be"
      },
      "execution_count": null,
      "outputs": [
        {
          "output_type": "execute_result",
          "data": {
            "text/plain": [
              "array([False, False,  True, False, False])"
            ]
          },
          "metadata": {},
          "execution_count": 8
        }
      ]
    },
    {
      "cell_type": "markdown",
      "source": [
        "###Counting entries\n",
        "To count the number of True entries in a Boolean array, **np.count_nonzero()** is useful. It counts the number of non-zero (= TRUE)  values in the array arr. For example, any number is considered truthful if it is nonzero, whereas any string is considered truthful if it is not the empty string."
      ],
      "metadata": {
        "id": "SHPkSWGbBlUz"
      }
    },
    {
      "cell_type": "code",
      "source": [
        "x = np.array([[9, 4, 0, 3,],[8, 6, 3, 1,],[3, 7, 4, 0]])"
      ],
      "metadata": {
        "id": "7PnOcQurBrYL"
      },
      "execution_count": 5,
      "outputs": []
    },
    {
      "cell_type": "code",
      "source": [
        "# how many values less than 6?\n",
        "np.count_nonzero(x < 6)"
      ],
      "metadata": {
        "colab": {
          "base_uri": "https://localhost:8080/"
        },
        "id": "wXcls4kXB_Oa",
        "outputId": "07f272f6-a2fa-425b-ebd7-4d0df29602fc"
      },
      "execution_count": 6,
      "outputs": [
        {
          "output_type": "execute_result",
          "data": {
            "text/plain": [
              "8"
            ]
          },
          "metadata": {},
          "execution_count": 6
        }
      ]
    },
    {
      "cell_type": "markdown",
      "source": [
        "The benefit of np.sum is that, like with other NumPy aggregation functions, this summation can be done along rows or columns as well:"
      ],
      "metadata": {
        "id": "5Qi3MavXCJwr"
      }
    },
    {
      "cell_type": "code",
      "source": [
        "# how many values less than 6 in each row?\n",
        "np.sum(x < 6, axis=1)"
      ],
      "metadata": {
        "colab": {
          "base_uri": "https://localhost:8080/"
        },
        "id": "BcCgtbmXCKfT",
        "outputId": "4d296d98-4bfb-4a8c-bea4-8d31348a530a"
      },
      "execution_count": null,
      "outputs": [
        {
          "output_type": "execute_result",
          "data": {
            "text/plain": [
              "array([3, 2, 3])"
            ]
          },
          "metadata": {},
          "execution_count": 12
        }
      ]
    },
    {
      "cell_type": "markdown",
      "source": [
        "This counts the number of values less than 6 in each row of the matrix.\n",
        "\n",
        "If we're interested in quickly checking whether any or all the values are True, we can use np.any or np.all:"
      ],
      "metadata": {
        "id": "cfatGAmVCQwn"
      }
    },
    {
      "cell_type": "code",
      "source": [
        "# are there any values greater than 8?\n",
        "np.any(x > 8)"
      ],
      "metadata": {
        "colab": {
          "base_uri": "https://localhost:8080/"
        },
        "id": "ktiROkHMCUPQ",
        "outputId": "6c9e5ffc-a45f-4f35-df4c-aee570b3ea7a"
      },
      "execution_count": null,
      "outputs": [
        {
          "output_type": "execute_result",
          "data": {
            "text/plain": [
              "True"
            ]
          },
          "metadata": {},
          "execution_count": 13
        }
      ]
    },
    {
      "cell_type": "code",
      "source": [
        "# are there any values less than zero?\n",
        "np.any(x < 0)"
      ],
      "metadata": {
        "colab": {
          "base_uri": "https://localhost:8080/"
        },
        "id": "noh_lBSSCX4D",
        "outputId": "4b1ac7a0-ec88-4b0d-e486-700ac98bbc07"
      },
      "execution_count": null,
      "outputs": [
        {
          "output_type": "execute_result",
          "data": {
            "text/plain": [
              "False"
            ]
          },
          "metadata": {},
          "execution_count": 14
        }
      ]
    },
    {
      "cell_type": "code",
      "source": [
        "# are all values less than 10?\n",
        "np.all(x < 10)"
      ],
      "metadata": {
        "colab": {
          "base_uri": "https://localhost:8080/"
        },
        "id": "AWPoI2lYCbxZ",
        "outputId": "a14292ee-322d-481f-af99-217862d4c49d"
      },
      "execution_count": null,
      "outputs": [
        {
          "output_type": "execute_result",
          "data": {
            "text/plain": [
              "True"
            ]
          },
          "metadata": {},
          "execution_count": 15
        }
      ]
    },
    {
      "cell_type": "code",
      "source": [
        "# are all values equal to 6?\n",
        "np.all(x == 6)"
      ],
      "metadata": {
        "colab": {
          "base_uri": "https://localhost:8080/"
        },
        "id": "ZZX1Dy8LCeZq",
        "outputId": "0c880e7b-601e-4d21-fe54-b118586b3992"
      },
      "execution_count": null,
      "outputs": [
        {
          "output_type": "execute_result",
          "data": {
            "text/plain": [
              "False"
            ]
          },
          "metadata": {},
          "execution_count": 16
        }
      ]
    },
    {
      "cell_type": "markdown",
      "source": [
        "Note that **np.all()** and **np.any()** can be used along particular axes as well. For example:"
      ],
      "metadata": {
        "id": "F18DnspBCi_K"
      }
    },
    {
      "cell_type": "code",
      "source": [
        "# are all values in each row less than 8?\n",
        "np.all(x < 8, axis=1)"
      ],
      "metadata": {
        "colab": {
          "base_uri": "https://localhost:8080/"
        },
        "id": "fxxYD8fACjiW",
        "outputId": "6b079155-e54b-419f-fab8-72efda0eea71"
      },
      "execution_count": null,
      "outputs": [
        {
          "output_type": "execute_result",
          "data": {
            "text/plain": [
              "array([False, False,  True])"
            ]
          },
          "metadata": {},
          "execution_count": 17
        }
      ]
    },
    {
      "cell_type": "markdown",
      "source": [
        "##Exploring fancy indexing\n",
        "Fancy indexing is conceptually simple: it means passing an array of indices to access multiple array elements at once. For example, consider the following array:"
      ],
      "metadata": {
        "id": "n_mbRwTvDMHS"
      }
    },
    {
      "cell_type": "code",
      "source": [
        "import numpy as np\n",
        "rng = np.random.default_rng(seed=1701)\n",
        "\n",
        "x = rng.integers(100, size=10)\n",
        "print(x)"
      ],
      "metadata": {
        "colab": {
          "base_uri": "https://localhost:8080/"
        },
        "id": "yipYpsDvDOBo",
        "outputId": "f67bb018-234a-4b4a-e3ee-28b9460fb865"
      },
      "execution_count": null,
      "outputs": [
        {
          "output_type": "stream",
          "name": "stdout",
          "text": [
            "[90 40  9 30 80 67 39 15 33 79]\n"
          ]
        }
      ]
    },
    {
      "cell_type": "markdown",
      "source": [
        "Suppose we want to access three different elements. We could do it like this:"
      ],
      "metadata": {
        "id": "TydlBNn1DUj0"
      }
    },
    {
      "cell_type": "code",
      "source": [
        "[x[3], x[7], x[2]]"
      ],
      "metadata": {
        "colab": {
          "base_uri": "https://localhost:8080/"
        },
        "id": "m74GSXhNDVEo",
        "outputId": "30ef37e4-df26-4827-d85f-412ae0c66758"
      },
      "execution_count": null,
      "outputs": [
        {
          "output_type": "execute_result",
          "data": {
            "text/plain": [
              "[30, 15, 9]"
            ]
          },
          "metadata": {},
          "execution_count": 19
        }
      ]
    },
    {
      "cell_type": "markdown",
      "source": [
        "Alternatively, we can pass a single list or array of indices to obtain the same result:"
      ],
      "metadata": {
        "id": "kLCrOjNRDZ0-"
      }
    },
    {
      "cell_type": "code",
      "source": [
        "ind = [3, 7, 4]\n",
        "x[ind]"
      ],
      "metadata": {
        "colab": {
          "base_uri": "https://localhost:8080/"
        },
        "id": "BEq6KGrJDaVi",
        "outputId": "258635f7-76b1-4825-b388-c4224472a3a9"
      },
      "execution_count": null,
      "outputs": [
        {
          "output_type": "execute_result",
          "data": {
            "text/plain": [
              "array([30, 15, 80])"
            ]
          },
          "metadata": {},
          "execution_count": 20
        }
      ]
    },
    {
      "cell_type": "markdown",
      "source": [
        "Fancy indexing also works in multiple dimensions. Consider the following array:"
      ],
      "metadata": {
        "id": "GCYWzoDHDmXL"
      }
    },
    {
      "cell_type": "code",
      "source": [
        "X = np.arange(12).reshape((3, 4))\n",
        "X"
      ],
      "metadata": {
        "colab": {
          "base_uri": "https://localhost:8080/"
        },
        "id": "95ZkMw94Dm66",
        "outputId": "5c1e1820-c4e3-49d2-bf4b-03e3b8851184"
      },
      "execution_count": null,
      "outputs": [
        {
          "output_type": "execute_result",
          "data": {
            "text/plain": [
              "array([[ 0,  1,  2,  3],\n",
              "       [ 4,  5,  6,  7],\n",
              "       [ 8,  9, 10, 11]])"
            ]
          },
          "metadata": {},
          "execution_count": 21
        }
      ]
    },
    {
      "cell_type": "markdown",
      "source": [
        "Like with standard indexing, the first index refers to the row, and the second to the column:"
      ],
      "metadata": {
        "id": "8FAgQiTEDtOy"
      }
    },
    {
      "cell_type": "code",
      "source": [
        "row = np.array([0, 1, 2])\n",
        "col = np.array([2, 1, 3])\n",
        "X[row, col]"
      ],
      "metadata": {
        "colab": {
          "base_uri": "https://localhost:8080/"
        },
        "id": "U0BoBF39Dtvi",
        "outputId": "0dc12531-61a5-46f0-bc2a-d5c5e20fb79c"
      },
      "execution_count": null,
      "outputs": [
        {
          "output_type": "execute_result",
          "data": {
            "text/plain": [
              "array([ 2,  5, 11])"
            ]
          },
          "metadata": {},
          "execution_count": 22
        }
      ]
    },
    {
      "cell_type": "markdown",
      "source": [
        "##Simple if else branch\n",
        "\n",
        "if…elif…else are conditional statements that provide you with the decision making that is required when you want to execute code based on a particular condition. The *else* keyword catches anything which isn't caught by the preceding conditions. Please note the importance of indentation."
      ],
      "metadata": {
        "id": "jZ-QMmVwQpu5"
      }
    },
    {
      "cell_type": "code",
      "source": [
        "x = 12\n",
        "print('x: ', x)\n",
        "\n",
        "if x > 0:\n",
        "  print('This number is positive.')\n",
        "else:\n",
        "  print('This number is  0 or negative.')"
      ],
      "metadata": {
        "colab": {
          "base_uri": "https://localhost:8080/"
        },
        "id": "rm2KcxnPRfnb",
        "outputId": "d263b4e2-e9d1-4343-92bb-ad6531f1f410"
      },
      "execution_count": null,
      "outputs": [
        {
          "output_type": "stream",
          "name": "stdout",
          "text": [
            "x:  12\n",
            "This number is positive.\n"
          ]
        }
      ]
    },
    {
      "cell_type": "markdown",
      "source": [
        "## Multiple branching"
      ],
      "metadata": {
        "id": "gTtPjimQR6ic"
      }
    },
    {
      "cell_type": "code",
      "source": [
        "x = -5\n",
        "print('x: ', x)\n",
        "if x > 0:\n",
        "  print('x is positive.')\n",
        "elif x < 0:\n",
        "  print('x is negative.')\n",
        "else:\n",
        "  print('x is zero')"
      ],
      "metadata": {
        "colab": {
          "base_uri": "https://localhost:8080/"
        },
        "id": "UDgUT8yxR9rM",
        "outputId": "af1b1bf2-d207-4929-8a61-cec2e0ea9348"
      },
      "execution_count": null,
      "outputs": [
        {
          "output_type": "stream",
          "name": "stdout",
          "text": [
            "x:  -5\n",
            "x is negative.\n"
          ]
        }
      ]
    },
    {
      "cell_type": "code",
      "source": [
        "#multiple logical operators\n",
        "x = 12\n",
        "y = 15\n",
        "z = 20\n",
        "print('x: ', x)\n",
        "print('y: ', y)\n",
        "print('z: ', z)\n",
        "\n",
        "#condition\n",
        "if x < y < z:\n",
        "  print('y is larger then x and smaller than z.')"
      ],
      "metadata": {
        "colab": {
          "base_uri": "https://localhost:8080/"
        },
        "id": "u59i5uKISdrA",
        "outputId": "72782e5a-bb5e-4f1d-d11f-b2f28d17b419"
      },
      "execution_count": null,
      "outputs": [
        {
          "output_type": "stream",
          "name": "stdout",
          "text": [
            "x:  12\n",
            "y:  15\n",
            "z:  20\n",
            "y is larger then x and smaller than z.\n"
          ]
        }
      ]
    },
    {
      "cell_type": "markdown",
      "source": [
        "##loops\n",
        "\n",
        "A for loop is used for iterating over a sequence (that is either a list, a tuple, a dictionary, a set, or a string)."
      ],
      "metadata": {
        "id": "39fm5AOqTQOt"
      }
    },
    {
      "cell_type": "code",
      "source": [
        "#for loop\n",
        "for i in 2, 7.5, -22:\n",
        "  print('number: ', i, ', squared: ', i*i)"
      ],
      "metadata": {
        "colab": {
          "base_uri": "https://localhost:8080/"
        },
        "id": "C_OXuHApTSsC",
        "outputId": "7319a468-8802-4c41-f942-254a30425f7a"
      },
      "execution_count": null,
      "outputs": [
        {
          "output_type": "stream",
          "name": "stdout",
          "text": [
            "number:  2 , squared:  4\n",
            "number:  7.5 , squared:  56.25\n",
            "number:  -22 , squared:  484\n"
          ]
        }
      ]
    },
    {
      "cell_type": "code",
      "source": [
        "#nested controll structure\n",
        "for x in -2, -1, 0, 1, 2:\n",
        "  if x > 0:\n",
        "    print(x, 'positive')\n",
        "  else:\n",
        "    if x < 0:\n",
        "      print(x, 'negative')\n",
        "    else:\n",
        "      print(x, 'equal to zero')"
      ],
      "metadata": {
        "colab": {
          "base_uri": "https://localhost:8080/"
        },
        "id": "bfB--7TeTpQY",
        "outputId": "0e7b2996-d520-41a2-9a4f-3318d45102f7"
      },
      "execution_count": null,
      "outputs": [
        {
          "output_type": "stream",
          "name": "stdout",
          "text": [
            "-2 negative\n",
            "-1 negative\n",
            "0 equal to zero\n",
            "1 positive\n",
            "2 positive\n"
          ]
        }
      ]
    },
    {
      "cell_type": "markdown",
      "source": [
        "To loop through a set of code a specified number of times, we can use the **range()** function,\n",
        "The **range()** function returns a sequence of numbers, starting from 0 by default, and increments by 1 (by default), and ends at a specified number."
      ],
      "metadata": {
        "id": "i8zQZ8qvERzP"
      }
    },
    {
      "cell_type": "code",
      "source": [
        "#use the for loop with the range() function\n",
        "for i in range(5,9):\n",
        "  print('number: ', i)"
      ],
      "metadata": {
        "colab": {
          "base_uri": "https://localhost:8080/"
        },
        "id": "ule16SIjUNTn",
        "outputId": "18fa95b8-1e82-4cf5-e90b-475c47b15a0f"
      },
      "execution_count": null,
      "outputs": [
        {
          "output_type": "stream",
          "name": "stdout",
          "text": [
            "number:  5\n",
            "number:  6\n",
            "number:  7\n",
            "number:  8\n"
          ]
        }
      ]
    },
    {
      "cell_type": "code",
      "source": [
        "for i in range(3,11,2):\n",
        "  print('number:' , i, ', square: ', i*i)"
      ],
      "metadata": {
        "colab": {
          "base_uri": "https://localhost:8080/"
        },
        "id": "c9noVaHEUXGC",
        "outputId": "a80260aa-ef09-447b-bcec-962a4fb80417"
      },
      "execution_count": null,
      "outputs": [
        {
          "output_type": "stream",
          "name": "stdout",
          "text": [
            "number: 3 , square:  9\n",
            "number: 5 , square:  25\n",
            "number: 7 , square:  49\n",
            "number: 9 , square:  81\n"
          ]
        }
      ]
    },
    {
      "cell_type": "markdown",
      "source": [
        "With the while loop we can execute a set of statements as long as a condition is true.\n",
        "\n",
        "The **randint()** method returns an integernumber selected element from the specified range.\n",
        "The syntax is:\\\n",
        "*random.randint(start,stop)*"
      ],
      "metadata": {
        "id": "gDBzJQeLEfl4"
      }
    },
    {
      "cell_type": "code",
      "source": [
        "#while loop\n",
        "#random number generator\n",
        "import random\n",
        "random.seed()\n",
        "\n",
        "#initialsation\n",
        "sum = 0\n",
        "#while loop\n",
        "while sum < 30:\n",
        "  number = random.randint(1,8)\n",
        "  sum = sum + number\n",
        "  print('number: ', number, 'intermiediate result: ', sum)\n",
        "\n",
        "print('end')"
      ],
      "metadata": {
        "colab": {
          "base_uri": "https://localhost:8080/"
        },
        "id": "vSAfKIYvUsYh",
        "outputId": "632e7679-ed30-428d-b536-e0eb68225bed"
      },
      "execution_count": null,
      "outputs": [
        {
          "output_type": "stream",
          "name": "stdout",
          "text": [
            "number:  1 intermiediate result:  1\n",
            "number:  5 intermiediate result:  6\n",
            "number:  1 intermiediate result:  7\n",
            "number:  2 intermiediate result:  9\n",
            "number:  2 intermiediate result:  11\n",
            "number:  7 intermiediate result:  18\n",
            "number:  1 intermiediate result:  19\n",
            "number:  4 intermiediate result:  23\n",
            "number:  2 intermiediate result:  25\n",
            "number:  3 intermiediate result:  28\n",
            "number:  6 intermiediate result:  34\n",
            "end\n"
          ]
        }
      ]
    }
  ]
}