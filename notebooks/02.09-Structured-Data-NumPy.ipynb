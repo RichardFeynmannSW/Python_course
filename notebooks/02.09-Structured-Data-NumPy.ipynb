{
  "cells": [
    {
      "cell_type": "markdown",
      "metadata": {
        "id": "2heQ-b-46zgR"
      },
      "source": [
        "# Structured Data: NumPy's Structured Arrays"
      ]
    },
    {
      "cell_type": "markdown",
      "metadata": {
        "id": "cX3ACTN_6zgX"
      },
      "source": [
        "While often our data can be well represented by a homogeneous array of values, sometimes this is not the case. This chapter demonstrates the use of NumPy's *structured arrays* and *record arrays*, which provide efficient storage for compound, heterogeneous data.  While the patterns shown here are useful for simple operations, scenarios like this often lend themselves to the use of Pandas ``DataFrame``s, which we'll explore in [Part 3](03.00-Introduction-to-Pandas.ipynb)."
      ]
    },
    {
      "cell_type": "code",
      "execution_count": null,
      "metadata": {
        "tags": [],
        "id": "eSqwI4Gb6zgZ"
      },
      "outputs": [],
      "source": [
        "import numpy as np"
      ]
    },
    {
      "cell_type": "markdown",
      "metadata": {
        "id": "2h4_vH7E6zgc"
      },
      "source": [
        "Imagine that we have several categories of data on a number of people (say, name, age, and weight), and we'd like to store these values for use in a Python program.\n",
        "It would be possible to store these in three separate arrays:"
      ]
    },
    {
      "cell_type": "code",
      "execution_count": null,
      "metadata": {
        "jupyter": {
          "outputs_hidden": false
        },
        "id": "QNrXWVF56zgd"
      },
      "outputs": [],
      "source": [
        "name = ['Alice', 'Bob', 'Cathy', 'Doug']\n",
        "age = [25, 45, 37, 19]\n",
        "weight = [55.0, 85.5, 68.0, 61.5]"
      ]
    },
    {
      "cell_type": "markdown",
      "metadata": {
        "id": "hlXSLJDG6zge"
      },
      "source": [
        "But this is a bit clumsy. There's nothing here that tells us that the three arrays are related; NumPy's structured arrays allow us to do this more naturally by using a single structure to store all of this data.\n",
        "\n",
        "Recall that previously we created a simple array using an expression like this:"
      ]
    },
    {
      "cell_type": "code",
      "execution_count": null,
      "metadata": {
        "jupyter": {
          "outputs_hidden": false
        },
        "id": "hDiiEyEZ6zge"
      },
      "outputs": [],
      "source": [
        "x = np.zeros(4, dtype=int)"
      ]
    },
    {
      "cell_type": "markdown",
      "metadata": {
        "id": "rkcpiBCt6zgf"
      },
      "source": [
        "We can similarly create a structured array using a compound data type specification:"
      ]
    },
    {
      "cell_type": "code",
      "execution_count": null,
      "metadata": {
        "jupyter": {
          "outputs_hidden": false
        },
        "id": "bhmTMTCm6zgf",
        "outputId": "34d75842-887a-476a-ec72-f5b0e63f93d8"
      },
      "outputs": [
        {
          "name": "stdout",
          "output_type": "stream",
          "text": [
            "[('name', '<U10'), ('age', '<i4'), ('weight', '<f8')]\n"
          ]
        }
      ],
      "source": [
        "# Use a compound data type for structured arrays\n",
        "data = np.zeros(4, dtype={'names':('name', 'age', 'weight'),\n",
        "                          'formats':('U10', 'i4', 'f8')})\n",
        "print(data.dtype)"
      ]
    },
    {
      "cell_type": "markdown",
      "metadata": {
        "id": "CHihN0wC6zgg"
      },
      "source": [
        "Here `'U10'` translates to \"Unicode string of maximum length 10,\" `'i4'` translates to \"4-byte (i.e., 32-bit) integer,\" and `'f8'` translates to \"8-byte (i.e., 64-bit) float.\"\n",
        "We'll discuss other options for these type codes in the following section.\n",
        "\n",
        "Now that we've created an empty container array, we can fill the array with our lists of values:"
      ]
    },
    {
      "cell_type": "code",
      "execution_count": null,
      "metadata": {
        "jupyter": {
          "outputs_hidden": false
        },
        "id": "ShRKglPA6zgh",
        "outputId": "40b8b489-91df-46df-84cb-461e3781a625"
      },
      "outputs": [
        {
          "name": "stdout",
          "output_type": "stream",
          "text": [
            "[('Alice', 25, 55. ) ('Bob', 45, 85.5) ('Cathy', 37, 68. )\n",
            " ('Doug', 19, 61.5)]\n"
          ]
        }
      ],
      "source": [
        "data['name'] = name\n",
        "data['age'] = age\n",
        "data['weight'] = weight\n",
        "print(data)"
      ]
    },
    {
      "cell_type": "markdown",
      "metadata": {
        "id": "HfrhgaAp6zgh"
      },
      "source": [
        "As we had hoped, the data is now conveniently arranged in one structured array.\n",
        "\n",
        "The handy thing with structured arrays is that we can now refer to values either by index or by name:"
      ]
    },
    {
      "cell_type": "code",
      "execution_count": null,
      "metadata": {
        "jupyter": {
          "outputs_hidden": false
        },
        "id": "-xs0SmWl6zgh",
        "outputId": "e7c17779-90fd-4e51-c5f5-24b33efbaeb7"
      },
      "outputs": [
        {
          "data": {
            "text/plain": [
              "array(['Alice', 'Bob', 'Cathy', 'Doug'], dtype='<U10')"
            ]
          },
          "execution_count": 6,
          "metadata": {},
          "output_type": "execute_result"
        }
      ],
      "source": [
        "# Get all names\n",
        "data['name']"
      ]
    },
    {
      "cell_type": "code",
      "execution_count": null,
      "metadata": {
        "jupyter": {
          "outputs_hidden": false
        },
        "id": "IbDOnU8S6zgi",
        "outputId": "9680d55e-a0c5-47dc-bc2e-7b0353957494"
      },
      "outputs": [
        {
          "data": {
            "text/plain": [
              "('Alice', 25, 55.)"
            ]
          },
          "execution_count": 7,
          "metadata": {},
          "output_type": "execute_result"
        }
      ],
      "source": [
        "# Get first row of data\n",
        "data[0]"
      ]
    },
    {
      "cell_type": "code",
      "execution_count": null,
      "metadata": {
        "jupyter": {
          "outputs_hidden": false
        },
        "id": "jn2xTbUK6zgi",
        "outputId": "d1a2e2fe-a0b5-4f51-ecca-6c10e3506bfc"
      },
      "outputs": [
        {
          "data": {
            "text/plain": [
              "'Doug'"
            ]
          },
          "execution_count": 8,
          "metadata": {},
          "output_type": "execute_result"
        }
      ],
      "source": [
        "# Get the name from the last row\n",
        "data[-1]['name']"
      ]
    },
    {
      "cell_type": "markdown",
      "metadata": {
        "id": "L70NtYrZ6zgj"
      },
      "source": [
        "Using Boolean masking, we can even do some more sophisticated operations, such as filtering on age:"
      ]
    },
    {
      "cell_type": "code",
      "execution_count": null,
      "metadata": {
        "jupyter": {
          "outputs_hidden": false
        },
        "id": "hVHKdKtl6zgj",
        "outputId": "196d781b-e791-4eec-f990-6ba62c173c8d"
      },
      "outputs": [
        {
          "data": {
            "text/plain": [
              "array(['Alice', 'Doug'], dtype='<U10')"
            ]
          },
          "execution_count": 9,
          "metadata": {},
          "output_type": "execute_result"
        }
      ],
      "source": [
        "# Get names where age is under 30\n",
        "data[data['age'] < 30]['name']"
      ]
    },
    {
      "cell_type": "markdown",
      "metadata": {
        "id": "bnX8XBoS6zgj"
      },
      "source": [
        "If you'd like to do any operations that are any more complicated than these, you should probably consider the Pandas package, covered in [Part 4](04.00-Introduction-To-Matplotlib.ipynb).\n",
        "As you'll see, Pandas provides a `DataFrame` object, which is a structure built on NumPy arrays that offers a variety of useful data manipulation functionality similar to what you've seen here, as well as much, much more."
      ]
    },
    {
      "cell_type": "markdown",
      "metadata": {
        "id": "Y0fDvKFr6zgk"
      },
      "source": [
        "## Exploring Structured Array Creation\n",
        "\n",
        "Structured array data types can be specified in a number of ways.\n",
        "Earlier, we saw the dictionary method:"
      ]
    },
    {
      "cell_type": "code",
      "execution_count": null,
      "metadata": {
        "jupyter": {
          "outputs_hidden": false
        },
        "id": "S_gq44dY6zgl",
        "outputId": "064c2305-77f3-4368-c8e3-27deaade7360"
      },
      "outputs": [
        {
          "data": {
            "text/plain": [
              "dtype([('name', '<U10'), ('age', '<i4'), ('weight', '<f8')])"
            ]
          },
          "execution_count": 10,
          "metadata": {},
          "output_type": "execute_result"
        }
      ],
      "source": [
        "np.dtype({'names':('name', 'age', 'weight'),\n",
        "          'formats':('U10', 'i4', 'f8')})"
      ]
    },
    {
      "cell_type": "markdown",
      "metadata": {
        "id": "rKFHpjBU6zgl"
      },
      "source": [
        "For clarity, numerical types can be specified using Python types or NumPy `dtype`s instead:"
      ]
    },
    {
      "cell_type": "code",
      "execution_count": null,
      "metadata": {
        "jupyter": {
          "outputs_hidden": false
        },
        "id": "-qnDfq_U6zgm",
        "outputId": "dc2dcc86-6b1d-4dad-ec93-4095f8b73685"
      },
      "outputs": [
        {
          "data": {
            "text/plain": [
              "dtype([('name', '<U10'), ('age', '<i8'), ('weight', '<f4')])"
            ]
          },
          "execution_count": 11,
          "metadata": {},
          "output_type": "execute_result"
        }
      ],
      "source": [
        "np.dtype({'names':('name', 'age', 'weight'),\n",
        "          'formats':((np.str_, 10), int, np.float32)})"
      ]
    },
    {
      "cell_type": "markdown",
      "metadata": {
        "id": "Ov5BGBUW6zgm"
      },
      "source": [
        "A compound type can also be specified as a list of tuples:"
      ]
    },
    {
      "cell_type": "code",
      "execution_count": null,
      "metadata": {
        "jupyter": {
          "outputs_hidden": false
        },
        "id": "AAfffV7l6zgn",
        "outputId": "3e6ada7b-5c88-4fae-8894-7593c172d4c6"
      },
      "outputs": [
        {
          "data": {
            "text/plain": [
              "dtype([('name', 'S10'), ('age', '<i4'), ('weight', '<f8')])"
            ]
          },
          "execution_count": 12,
          "metadata": {},
          "output_type": "execute_result"
        }
      ],
      "source": [
        "np.dtype([('name', 'S10'), ('age', 'i4'), ('weight', 'f8')])"
      ]
    },
    {
      "cell_type": "markdown",
      "metadata": {
        "id": "EbPXafOl6zgn"
      },
      "source": [
        "If the names of the types do not matter to you, you can specify the types alone in a comma-separated string:"
      ]
    },
    {
      "cell_type": "code",
      "execution_count": null,
      "metadata": {
        "jupyter": {
          "outputs_hidden": false
        },
        "id": "gs4nFQCs6zgn",
        "outputId": "cddf49fc-a25d-48d4-b4a1-4f9a1655f105"
      },
      "outputs": [
        {
          "data": {
            "text/plain": [
              "dtype([('f0', 'S10'), ('f1', '<i4'), ('f2', '<f8')])"
            ]
          },
          "execution_count": 13,
          "metadata": {},
          "output_type": "execute_result"
        }
      ],
      "source": [
        "np.dtype('S10,i4,f8')"
      ]
    },
    {
      "cell_type": "markdown",
      "metadata": {
        "id": "qazZJd9n6zgn"
      },
      "source": [
        "The shortened string format codes may not be immediately intuitive, but they are built on simple principles.\n",
        "The first (optional) character `<` or `>`, means \"little endian\" or \"big endian,\" respectively, and specifies the ordering convention for significant bits.\n",
        "The next character specifies the type of data: characters, bytes, ints, floating points, and so on (see the table below).\n",
        "The last character or characters represent the size of the object in bytes.\n",
        "\n",
        "| Character    | Description           | Example                           |\n",
        "| ---------    | -----------           | -------                           |\n",
        "| `'b'`        | Byte                  | `np.dtype('b')`                   |\n",
        "| `'i'`        | Signed integer        | `np.dtype('i4') == np.int32`      |\n",
        "| `'u'`        | Unsigned integer      | `np.dtype('u1') == np.uint8`      |\n",
        "| `'f'`        | Floating point        | `np.dtype('f8') == np.int64`      |\n",
        "| `'c'`        | Complex floating point| `np.dtype('c16') == np.complex128`|\n",
        "| `'S'`, `'a'` | String                | `np.dtype('S5')`                  |\n",
        "| `'U'`        | Unicode string        | `np.dtype('U') == np.str_`        |\n",
        "| `'V'`        | Raw data (void)       | `np.dtype('V') == np.void`        |"
      ]
    },
    {
      "cell_type": "markdown",
      "metadata": {
        "id": "4Gqb4Biu6zgo"
      },
      "source": [
        "## More Advanced Compound Types\n",
        "\n",
        "It is possible to define even more advanced compound types.\n",
        "For example, you can create a type where each element contains an array or matrix of values.\n",
        "Here, we'll create a data type with a `mat` component consisting of a $3\\times 3$ floating-point matrix:"
      ]
    },
    {
      "cell_type": "code",
      "execution_count": null,
      "metadata": {
        "jupyter": {
          "outputs_hidden": false
        },
        "id": "C6cOiKp26zgo",
        "outputId": "938d5156-b6bd-49b2-8abd-cb64d6943ea5"
      },
      "outputs": [
        {
          "name": "stdout",
          "output_type": "stream",
          "text": [
            "(0, [[0., 0., 0.], [0., 0., 0.], [0., 0., 0.]])\n",
            "[[0. 0. 0.]\n",
            " [0. 0. 0.]\n",
            " [0. 0. 0.]]\n"
          ]
        }
      ],
      "source": [
        "tp = np.dtype([('id', 'i8'), ('mat', 'f8', (3, 3))])\n",
        "X = np.zeros(1, dtype=tp)\n",
        "print(X[0])\n",
        "print(X['mat'][0])"
      ]
    },
    {
      "cell_type": "markdown",
      "metadata": {
        "id": "m4R42dao6zgp"
      },
      "source": [
        "Now each element in the `X` array consists of an `id` and a $3\\times 3$ matrix.\n",
        "Why would you use this rather than a simple multidimensional array, or perhaps a Python dictionary?\n",
        "One reason is that this NumPy `dtype` directly maps onto a C structure definition, so the buffer containing the array content can be accessed directly within an appropriately written C program.\n",
        "If you find yourself writing a Python interface to a legacy C or Fortran library that manipulates structured data, structured arrays can provide a powerful interface."
      ]
    },
    {
      "cell_type": "markdown",
      "metadata": {
        "id": "NftJrFNP6zgp"
      },
      "source": [
        "## Record Arrays: Structured Arrays with a Twist\n",
        "\n",
        "NumPy also provides record arrays (instances of the `np.recarray` class), which are almost identical to the structured arrays just described, but with one additional feature: fields can be accessed as attributes rather than as dictionary keys.\n",
        "Recall that we previously accessed the ages in our sample dataset by writing:"
      ]
    },
    {
      "cell_type": "code",
      "execution_count": null,
      "metadata": {
        "jupyter": {
          "outputs_hidden": false
        },
        "id": "5hztxpu76zgs",
        "outputId": "76870338-7f67-4b06-cdca-0e8f0150cc46"
      },
      "outputs": [
        {
          "data": {
            "text/plain": [
              "array([25, 45, 37, 19], dtype=int32)"
            ]
          },
          "execution_count": 15,
          "metadata": {},
          "output_type": "execute_result"
        }
      ],
      "source": [
        "data['age']"
      ]
    },
    {
      "cell_type": "markdown",
      "metadata": {
        "id": "tNsWr8386zgs"
      },
      "source": [
        "If we view our data as a record array instead, we can access this with slightly fewer keystrokes:"
      ]
    },
    {
      "cell_type": "code",
      "execution_count": null,
      "metadata": {
        "jupyter": {
          "outputs_hidden": false
        },
        "id": "rqFvjIlf6zgs",
        "outputId": "62918afc-535c-4156-80fb-dc9900e0b878"
      },
      "outputs": [
        {
          "data": {
            "text/plain": [
              "array([25, 45, 37, 19], dtype=int32)"
            ]
          },
          "execution_count": 16,
          "metadata": {},
          "output_type": "execute_result"
        }
      ],
      "source": [
        "data_rec = data.view(np.recarray)\n",
        "data_rec.age"
      ]
    },
    {
      "cell_type": "markdown",
      "metadata": {
        "id": "vM-IOk3x6zgs"
      },
      "source": [
        "The downside is that for record arrays, there is some extra overhead involved in accessing the fields, even when using the same syntax:"
      ]
    },
    {
      "cell_type": "code",
      "execution_count": null,
      "metadata": {
        "id": "ogtRpvYt6zgt",
        "outputId": "bfaeb4cb-0dd7-4170-c5ca-14719f4d0f2f"
      },
      "outputs": [
        {
          "name": "stdout",
          "output_type": "stream",
          "text": [
            "121 ns ± 1.4 ns per loop (mean ± std. dev. of 7 runs, 1000000 loops each)\n",
            "2.41 µs ± 15.7 ns per loop (mean ± std. dev. of 7 runs, 100000 loops each)\n",
            "3.98 µs ± 20.5 ns per loop (mean ± std. dev. of 7 runs, 100000 loops each)\n"
          ]
        }
      ],
      "source": [
        "%timeit data['age']\n",
        "%timeit data_rec['age']\n",
        "%timeit data_rec.age"
      ]
    },
    {
      "cell_type": "markdown",
      "metadata": {
        "id": "25BNLRyA6zgt"
      },
      "source": [
        "Whether the more convenient notation is worth the (slight) overhead will depend on your own application."
      ]
    },
    {
      "cell_type": "markdown",
      "metadata": {
        "id": "plqFG6jx6zgt"
      },
      "source": [
        "## On to Pandas\n",
        "\n",
        "This chapter on structured and record arrays is purposely located at the end of this part of the book, because it leads so well into the next package we will cover: Pandas.\n",
        "Structured arrays can come in handy in certain situations, like when you're using NumPy arrays to map onto binary data formats in C, Fortran, or another language.\n",
        "But for day-to-day use of structured data, the Pandas package is a much better choice; we'll explore it in depth in the chapters that follow."
      ]
    }
  ],
  "metadata": {
    "anaconda-cloud": {},
    "jupytext": {
      "formats": "ipynb,md"
    },
    "kernelspec": {
      "display_name": "Python 3 (ipykernel)",
      "language": "python",
      "name": "python3"
    },
    "language_info": {
      "codemirror_mode": {
        "name": "ipython",
        "version": 3
      },
      "file_extension": ".py",
      "mimetype": "text/x-python",
      "name": "python",
      "nbconvert_exporter": "python",
      "pygments_lexer": "ipython3",
      "version": "3.9.2"
    },
    "colab": {
      "provenance": []
    }
  },
  "nbformat": 4,
  "nbformat_minor": 0
}